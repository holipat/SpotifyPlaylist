{
 "cells": [
  {
   "cell_type": "code",
   "execution_count": null,
   "metadata": {},
   "outputs": [],
   "source": [
    "import spotipy\n",
    "from spotipy.oauth2 import SpotifyClientCredentials\n",
    "from dotenv import load_dotenv\n",
    "import os"
   ]
  },
  {
   "cell_type": "code",
   "execution_count": 14,
   "metadata": {},
   "outputs": [],
   "source": [
    "load_dotenv()\n",
    "\n",
    "SPOTIPY_CLIENT_ID=os.getenv(\"CLIENT_ID\")\n",
    "SPOTIPY_CLIENT_SECRET=os.getenv(\"CLIENT_SECRET\")"
   ]
  },
  {
   "cell_type": "code",
   "execution_count": 15,
   "metadata": {},
   "outputs": [],
   "source": [
    "sp=spotipy.Spotify(\n",
    "    auth_manager=SpotifyClientCredentials(\n",
    "        client_id=SPOTIPY_CLIENT_ID, client_secret=SPOTIPY_CLIENT_SECRET))"
   ]
  },
  {
   "cell_type": "code",
   "execution_count": 16,
   "metadata": {},
   "outputs": [],
   "source": [
    "sp=spotipy.Spotify(\n",
    "    auth_manager=SpotifyClientCredentials(\n",
    "        client_id=SPOTIPY_CLIENT_ID, client_secret=SPOTIPY_CLIENT_SECRET))"
   ]
  },
  {
   "cell_type": "code",
   "execution_count": 17,
   "metadata": {},
   "outputs": [],
   "source": [
    "def extract_id(spotify_url):\n",
    "    if \"track/\" in spotify_url:\n",
    "        return spotify_url.split(\"track/\")[1].split(\"?\")[0]\n",
    "    elif \"playlist/\":\n",
    "        return spotify_url.split(\"playlist/\")[1].split(\"?\")[0]\n",
    "    elif \"spotify.link\" in spotify_url:\n",
    "        return spotify_url.split(\"/\")[-1].split(\"?\")[0]\n",
    "    else:\n",
    "        return ValueError(\"Invalid Spotify URL\")"
   ]
  },
  {
   "cell_type": "code",
   "execution_count": 18,
   "metadata": {},
   "outputs": [],
   "source": [
    "def print_playlist_features(playlist_id):\n",
    "    results = sp.playlist_items(playlist_id)\n",
    "\n",
    "    for item in results[\"items\"]:\n",
    "        track = item[\"track\"]\n",
    "            \n",
    "        artist_id = track['artists'][0]['id']\n",
    "        artist_info = sp.artist(artist_id)\n",
    "        \n",
    "        print(\"Song name: \", track['name'])\n",
    "        print(\"Artist: \", track['artists'][0]['name'])\n",
    "        print(\"Artist Genres: \", artist_info.get('genres','No info'))\n",
    "        print(\"Album: \", track['album']['name'])"
   ]
  },
  {
   "cell_type": "code",
   "execution_count": 19,
   "metadata": {},
   "outputs": [],
   "source": [
    "def print_song_features(track_id):\n",
    "    track = sp.track(track_id)   \n",
    "    artist_id = track['artists'][0]['id']\n",
    "    artist_info = sp.artist(artist_id)\n",
    "        \n",
    "    print(\"Song name: \", track['name'])\n",
    "    print(\"Artist: \", track['artists'][0]['name'])\n",
    "    print(\"Artist Genres: \\n\", artist_info.get('genres','No info'))\n",
    "    print(\"Album: \", track['album']['name'])"
   ]
  },
  {
   "cell_type": "code",
   "execution_count": 20,
   "metadata": {},
   "outputs": [],
   "source": [
    "def get_song_features(track_id):\n",
    "    audio_features = sp.audio_features(track_id)\n",
    "    return [\n",
    "        {\n",
    "            \"id\": feature[\"id\"],\n",
    "            \"danceability\": feature[\"danceability\"],\n",
    "            \"energy\": feature[\"energy\"],\n",
    "            \"valence\": feature[\"valence\"],\n",
    "            \"tempo\": feature[\"tempo\"],\n",
    "            \"acousticness\": feature[\"acousticness\"],\n",
    "            \n",
    "        }\n",
    "        for feature in audio_features\n",
    "    ]"
   ]
  },
  {
   "cell_type": "code",
   "execution_count": 21,
   "metadata": {},
   "outputs": [
    {
     "name": "stdout",
     "output_type": "stream",
     "text": [
      "Song name:  Sea of Mermaids 1\n",
      "Artist:  2nd Moon\n",
      "Artist Genres:  ['joseon pop', 'korean ost']\n",
      "Album:  The Legend of The Blue Sea OST\n",
      "Song name:  Given Up\n",
      "Artist:  Linkin Park\n",
      "Artist Genres:  ['alternative metal', 'nu metal', 'post-grunge', 'rap metal', 'rock']\n",
      "Album:  Minutes to Midnight\n",
      "Song name:  Destination Tortuga\n",
      "Artist:  Antti Martikainen\n",
      "Artist Genres:  ['epicore']\n",
      "Album:  Set Sail for the Golden Age\n",
      "Song name:  I Won't Give In\n",
      "Artist:  Asking Alexandria\n",
      "Artist Genres:  ['alternative metal', 'metalcore', 'pop punk', 'post-grunge', 'trancecore', 'uk metalcore']\n",
      "Album:  The Black\n",
      "Song name:  Dünyanın Sonuna Doğmuşum\n",
      "Artist:  maNga\n",
      "Artist Genres:  ['turkish rock']\n",
      "Album:  Şehr-i Hüzün\n",
      "Song name:  Sen Bunları Duyma\n",
      "Artist:  Can Bonomo\n",
      "Artist Genres:  ['turkish pop', 'turkish rock']\n",
      "Album:  Sen Bunları Duyma\n",
      "Song name:  Bozdoğan\n",
      "Artist:  Erdal Güney\n",
      "Artist Genres:  ['rumeli turkuleri', 'turkish folk', 'ulkucu sarkilar']\n",
      "Album:  Bir Kıyıdan\n",
      "Song name:  Your World Will Fail\n",
      "Artist:  Les Friction\n",
      "Artist Genres:  ['epicore']\n",
      "Album:  Dark Matter\n",
      "Song name:  Odds Are\n",
      "Artist:  The FifthGuys\n",
      "Artist Genres:  []\n",
      "Album:  Odds Are\n",
      "Song name:  My Songs Know What You Did In The Dark (Light Em Up)\n",
      "Artist:  Fall Out Boy\n",
      "Artist Genres:  ['emo', 'modern rock', 'pop', 'rock']\n",
      "Album:  Save Rock And Roll\n",
      "Song name:  The Face of Boe\n",
      "Artist:  Murray Gold\n",
      "Artist Genres:  ['british soundtrack', 'theme']\n",
      "Album:  Doctor Who (Original Television Soundtrack)\n"
     ]
    }
   ],
   "source": [
    "playlist_url = input(\"Playlist link:\")\n",
    "playlist_id=extract_id(playlist_url)\n",
    "print_playlist_features(playlist_id)"
   ]
  }
 ],
 "metadata": {
  "kernelspec": {
   "display_name": "env",
   "language": "python",
   "name": "python3"
  },
  "language_info": {
   "codemirror_mode": {
    "name": "ipython",
    "version": 3
   },
   "file_extension": ".py",
   "mimetype": "text/x-python",
   "name": "python",
   "nbconvert_exporter": "python",
   "pygments_lexer": "ipython3",
   "version": "3.12.5"
  }
 },
 "nbformat": 4,
 "nbformat_minor": 2
}
